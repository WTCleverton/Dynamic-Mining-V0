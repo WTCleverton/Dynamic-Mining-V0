{
 "cells": [
  {
   "cell_type": "code",
   "execution_count": 2,
   "metadata": {},
   "outputs": [],
   "source": [
    "#Imports\n",
    "import json\n",
    "import urllib.request\n",
    "from time import sleep\n",
    "import shlex, subprocess\n",
    "import time\n",
    "import datetime\n",
    "import sys"
   ]
  },
  {
   "cell_type": "code",
   "execution_count": 3,
   "metadata": {},
   "outputs": [],
   "source": [
    "class bcolors:\n",
    "    HEADER = '\\033[95m'\n",
    "    OKBLUE = '\\033[94m'\n",
    "    OKGREEN = '\\033[92m'\n",
    "    WARNING = '\\033[93m'\n",
    "    FAIL = '\\033[91m'\n",
    "    RED = '\\033[31m'\n",
    "    YELLOW = '\\033[33m'\n",
    "    ENDC = '\\033[0m'\n",
    "    BOLD = '\\033[1m'\n",
    "    UNDERLINE = '\\033[4m'"
   ]
  },
  {
   "cell_type": "code",
   "execution_count": 5,
   "metadata": {},
   "outputs": [],
   "source": [
    "class Common():\n",
    "\tdef datestr(format=\"std\"):\n",
    "\t\tts = time.time()\n",
    "\t\tif format == \"file\":\n",
    "\t\t\treturn datetime.datetime.fromtimestamp(ts).strftime('%Y-%m-%d')\n",
    "\t\telif format == \"ms\":\n",
    "\t\t\treturn datetime.datetime.fromtimestamp(ts).strftime('%Y-%m-%d %H:%M:%S.%f')\n",
    "\t\telse:\n",
    "\t\t\treturn datetime.datetime.fromtimestamp(ts).strftime('%Y-%m-%d %H:%M:%S')\n",
    "\n",
    "\tdef Log(message, target=3):\n",
    "\t\t# target = 0: Do not log message\n",
    "\t\t# target = 1: Log to file only\n",
    "\t\t# target = 2: Log to screen only\n",
    "\t\t# target = 3: Log to both file and screen (default)\n",
    "\t\tif target == 1 or target == 3:\n",
    "\t\t\tLogFileName = Common.datestr(format=\"file\") + \".log\"\n",
    "\t\t\twith open(LogFileName, \"a\") as myfile:\n",
    "\t\t\t\tmyfile.write(\"[{0:s}] \".format(Common.datestr(format=\"ms\")) + message + \"\\n\")\n",
    "\t\tif target == 2 or target == 3: \n",
    "\t\t\tif \"ERROR:\" in message:\n",
    "\t\t\t\tprint(bcolors.FAIL + bcolors.BOLD + \"[{0:s}] \".format(Common.datestr()) + message + bcolors.ENDC)\n",
    "\t\t\telif \"DEBUG:\" in message:\n",
    "\t\t\t\tprint(bcolors.YELLOW + bcolors.BOLD + \"[{0:s}] \".format(Common.datestr()) + message + bcolors.ENDC)\n",
    "\t\t\telif \"MSG:\" in message:\n",
    "\t\t\t\tprint(bcolors.OKGREEN + bcolors.BOLD + bcolors.UNDERLINE + \"[{0:s}] \".format(Common.datestr()) + message + bcolors.ENDC)\n",
    "\t\t\telse:\n",
    "\t\t\t\tprint(bcolors.OKBLUE + bcolors.BOLD + \"[{0:s}] \".format(Common.datestr()) + message + bcolors.ENDC)"
   ]
  },
  {
   "cell_type": "code",
   "execution_count": 6,
   "metadata": {},
   "outputs": [],
   "source": [
    "def GetURL(url, DebugTarget=1):\n",
    "\t\tCommon.Log(\"DEBUG: Common.GetURL() 001:\" + url, target=DebugTarget)\n",
    "\t\ttry:\n",
    "\t\t\thdr = {'User-Agent': 'Mozilla/5.0 (X11; Linux x86_64) AppleWebKit/537.11 (KHTML, like Gecko) Chrome/23.0.1271.64 Safari/537.11',\n",
    "\t\t\t\t   'Accept': 'text/html,application/xhtml+xml,application/xml;q=0.9,*/*;q=0.8',\n",
    "\t\t\t\t   'Accept-Charset': 'ISO-8859-1,utf-8;q=0.7,*;q=0.3',\n",
    "\t\t\t\t   'Accept-Encoding': 'none',\n",
    "\t\t\t\t   'Accept-Language': 'en-US,en;q=0.8',\n",
    "\t\t\t\t   'Connection': 'keep-alive'}\n",
    "\t\t\tCommon.Log(\"DEBUG: Common.GetURL() 002:\" + url, target=DebugTarget)\n",
    "\t\t\tresponse = urllib.request.Request(url,headers=hdr)\n",
    "\t\t\tCommon.Log(\"DEBUG: Common.GetURL() 003:\" + url, target=DebugTarget)\n",
    "\t\t\tresponse = urllib.request.urlopen(response, timeout=3)\n",
    "\t\t\tCommon.Log(\"DEBUG: Common.GetURL() 004:\" + url, target=DebugTarget)\n",
    "\t\t\thtml = response.read()\n",
    "\t\t\tCommon.Log(\"DEBUG: Common.GetURL() 005:\" + url, target=DebugTarget)\n",
    "\t\t\treturn str(html.decode('UTF-8'))\n",
    "\t\texcept:\n",
    "\t\t\treturn \"Error\""
   ]
  },
  {
   "cell_type": "code",
   "execution_count": 10,
   "metadata": {},
   "outputs": [],
   "source": [
    "import collections"
   ]
  },
  {
   "cell_type": "code",
   "execution_count": 11,
   "metadata": {},
   "outputs": [
    {
     "name": "stdout",
     "output_type": "stream",
     "text": [
      "ALTCOM : Altcommunity\n",
      "BCN : Bytecoin\n",
      "BTG : BitcoinGold\n",
      "DCR : Decred\n",
      "DGB : DGB-Groestl\n",
      "ETC : EthereumClassic\n",
      "ETH : Ethereum\n",
      "ETN : Electroneum\n",
      "ETP : Metaverse\n",
      "EXP : Expanse\n",
      "FTC : Feathercoin\n",
      "GRS : GroestlCoin\n",
      "HAL : Halcyon\n",
      "HUSH : Hush\n",
      "KMD : Komodo\n",
      "KRB : Karbowanec\n",
      "LBC : LBRY\n",
      "MONA : Monacoin\n",
      "MUSIC : Musicoin\n",
      "ORB : Orbitcoin\n",
      "PASC : Pascalcoin\n",
      "PASL : PascalLite\n",
      "PIRL : Pirl\n",
      "SC : Sia\n",
      "SIB : Sibcoin\n",
      "SOIL : Soilcoin\n",
      "SUMO : Sumokoin\n",
      "TZC : Trezarcoin\n",
      "UBQ : Ubiq\n",
      "VIVO : Vivo\n",
      "VTC : Vertcoin\n",
      "XDN : DigitalNote\n",
      "XMR : Monero\n",
      "XMY : Myriad-Groestl\n",
      "ZCL : Zclassic\n",
      "ZEC : Zcash\n",
      "ZEN : Zencash\n"
     ]
    }
   ],
   "source": [
    "AllCoins = dict()\n",
    "html = GetURL(\"https://www.whattomine.com/coins.json\")\n",
    "if html != \"Error\":\n",
    "\tdata = json.loads(html)\n",
    "\tfor coin in data[\"coins\"]:\n",
    "\t\tif \"Nicehash\" not in coin:\n",
    "\t\t\tAllCoins[data[\"coins\"][coin][\"tag\"]] = coin\n",
    "\n",
    "AllCoins = collections.OrderedDict(sorted(AllCoins.items()))\n",
    "for k, v in AllCoins.items():\n",
    "\tprint(k,\":\",v)"
   ]
  },
  {
   "cell_type": "code",
   "execution_count": null,
   "metadata": {},
   "outputs": [],
   "source": []
  }
 ],
 "metadata": {
  "kernelspec": {
   "display_name": "Python 3",
   "language": "python",
   "name": "python3"
  },
  "language_info": {
   "codemirror_mode": {
    "name": "ipython",
    "version": 3
   },
   "file_extension": ".py",
   "mimetype": "text/x-python",
   "name": "python",
   "nbconvert_exporter": "python",
   "pygments_lexer": "ipython3",
   "version": "3.6.3"
  }
 },
 "nbformat": 4,
 "nbformat_minor": 2
}
