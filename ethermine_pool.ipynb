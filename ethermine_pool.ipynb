{
 "cells": [
  {
   "cell_type": "code",
   "execution_count": 30,
   "metadata": {},
   "outputs": [
    {
     "name": "stdout",
     "output_type": "stream",
     "text": [
      "{'status': 'OK', 'data': [{'time': 1513558791, 'nbrBlocks': 28, 'difficulty': 1771491973575525}, {'time': 1513562346, 'nbrBlocks': 65, 'difficulty': 1771491973608293}, {'time': 1513565975, 'nbrBlocks': 64, 'difficulty': 1739668384882044}, {'time': 1513569571, 'nbrBlocks': 76, 'difficulty': 1728551430734685}, {'time': 1513573184, 'nbrBlocks': 79, 'difficulty': 1740208480082428}, {'time': 1513576755, 'nbrBlocks': 75, 'difficulty': 1760633301708569}, {'time': 1513580321, 'nbrBlocks': 75, 'difficulty': 1762308105349920}, {'time': 1513583980, 'nbrBlocks': 82, 'difficulty': 1774177935529921}, {'time': 1513587336, 'nbrBlocks': 64, 'difficulty': 1783633480751681}, {'time': 1513591184, 'nbrBlocks': 75, 'difficulty': 1802776434826825}, {'time': 1513594730, 'nbrBlocks': 64, 'difficulty': 1828412575448590}, {'time': 1513598384, 'nbrBlocks': 73, 'difficulty': 1839945683063102}, {'time': 1513601926, 'nbrBlocks': 78, 'difficulty': 1851535150120110}, {'time': 1513605569, 'nbrBlocks': 70, 'difficulty': 1862359403999185}, {'time': 1513609197, 'nbrBlocks': 69, 'difficulty': 1850501723572963}, {'time': 1513612777, 'nbrBlocks': 80, 'difficulty': 1843975681461029}, {'time': 1513616335, 'nbrBlocks': 62, 'difficulty': 1837642804977304}, {'time': 1513619979, 'nbrBlocks': 81, 'difficulty': 1809045302785981}, {'time': 1513623593, 'nbrBlocks': 73, 'difficulty': 1806274656514634}, {'time': 1513627149, 'nbrBlocks': 73, 'difficulty': 1815815462009130}, {'time': 1513630747, 'nbrBlocks': 84, 'difficulty': 1811383186428875}, {'time': 1513634395, 'nbrBlocks': 70, 'difficulty': 1808608563828213}, {'time': 1513637988, 'nbrBlocks': 65, 'difficulty': 1794417380030441}, {'time': 1513641541, 'nbrBlocks': 73, 'difficulty': 1771671153540593}, {'time': 1513643711, 'nbrBlocks': 46, 'difficulty': 1755182854332828}]}\n",
      "1513558791\n"
     ]
    }
   ],
   "source": [
    "## Ethermine.org endpoint: https://api.ethermine.org\n",
    "## Ethpool.org endpoint: http://api.ethpool.org\n",
    "## Ethermine ETC endpoint: https://api-etc.ethermine.org\n",
    "## Flypool Zcash endpoint: https://api-zcash.flypool.org\n",
    "\n",
    "# Install ethapi to communicate with Ethminer pool\n",
    "# pip install git+https://git.cajun.pro/dirtycajunrice/python-ethapi\n",
    "\n",
    "import ethapi.api as ethapi\n",
    "import json\n",
    "\n",
    "\n",
    "ENDPOINT_ETH = 'https://api.ethermine.org'\n",
    "ENDPOINT_ZCASH = 'https://api-zcash.flypool.org'\n",
    "\n",
    "eth_miner_id = '0x87399287b1ce3eabe4079fb4013d383348780546' ## To-do: Create a list of our ETH wallets\n",
    "eth_worker_id = 'wt0202'  ## To-do: Create a list of our miners\n",
    "\n",
    "zec_miner_id = '0xt1V9oWjHGBHZVgELBgA6gCe3yVtYQBkKvBf' ## To-do: Create a list of our ETH wallets\n",
    "zec_worker_id = 'wt03Test'  ## To-do: Create a list of our miners\n",
    "\n",
    "## /blocks/history\n",
    "blocks = ethapi.Blocks(endpoint=ENDPOINT_ETH)\n",
    "#print(blocks.history())\n",
    "\n",
    "blocks_json = json.loads(blocks.history())\n",
    "#for x in blocks.history():\n",
    "\n",
    "#print (\"%s: %d\" % (x, blocks.history()[x]))\n",
    "\n",
    "print (blocks_json)\n",
    "\n",
    "print (blocks_json['data'][0]['time'])"
   ]
  },
  {
   "cell_type": "code",
   "execution_count": 42,
   "metadata": {},
   "outputs": [
    {
     "name": "stdout",
     "output_type": "stream",
     "text": [
      "1771491973575525\n",
      "ETH Network difficulty at 1513558791 is 1771491973575525\n"
     ]
    }
   ],
   "source": [
    "import datetime\n",
    "dif_time = blocks_json['data'][0]['time']\n",
    "st = datetime.datetime.fromtimestamp(dif_time).strftime('%Y-%m-%d %H:%M:%S')\n",
    "dif = blocks_json['data'][0]['difficulty']\n",
    "print (\"ETH Network difficulty at %s is %s\" % (dif_time, dif))"
   ]
  },
  {
   "cell_type": "code",
   "execution_count": null,
   "metadata": {},
   "outputs": [],
   "source": []
  },
  {
   "cell_type": "code",
   "execution_count": null,
   "metadata": {},
   "outputs": [],
   "source": []
  }
 ],
 "metadata": {
  "kernelspec": {
   "display_name": "Python 3",
   "language": "python",
   "name": "python3"
  },
  "language_info": {
   "codemirror_mode": {
    "name": "ipython",
    "version": 3
   },
   "file_extension": ".py",
   "mimetype": "text/x-python",
   "name": "python",
   "nbconvert_exporter": "python",
   "pygments_lexer": "ipython3",
   "version": "3.6.3"
  }
 },
 "nbformat": 4,
 "nbformat_minor": 2
}
